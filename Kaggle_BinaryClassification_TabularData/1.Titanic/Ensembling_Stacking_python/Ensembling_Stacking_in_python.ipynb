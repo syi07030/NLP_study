{
  "nbformat": 4,
  "nbformat_minor": 0,
  "metadata": {
    "colab": {
      "name": "Ensembling_Stacking in python.ipynb",
      "provenance": []
    },
    "kernelspec": {
      "name": "python3",
      "display_name": "Python 3"
    },
    "language_info": {
      "name": "python"
    }
  },
  "cells": [
    {
      "cell_type": "markdown",
      "source": [
        "## Introduction to Ensembing/Stacking in python\n",
        "- 필사 출처: https://www.kaggle.com/code/arthurtok/introduction-to-ensembling-stacking-in-python/notebook"
      ],
      "metadata": {
        "id": "rt3tRiA05ezT"
      }
    },
    {
      "cell_type": "markdown",
      "source": [
        "### Introduction\n",
        "- This notebook is a very basic and simple introductory primer to the method of ensembling(combining) base learning models, in particular the variant of ensembling known as Stacking. in a nutshell stacking uses as a first-level(base), the predictions of a few basic classifiers and then uses another model at the second-level to predict the output form the earlier first-level predictions.\n",
        "- The titanic dataset is a prime candidate for introducing this concept as many newcomers to Kaggle start out here. Furthermore even though stacking has been responsible for many a team winning Kaggle competitions there seems to be a dearth of kernels on this topic so I hope this notebook can fill somewhat of that void.\n",
        "- I myself am quite a newcomer to the Kaggle scene as well and the first proper ensembling/stacking script that I managed to chance upon and study was one written in the AllState Severity Claims competition by the great Faron. The material in this notebook borrows heavily from Faron's script although ported to factor in ensembles of classifiers whilst his was ensembles of regressors. Anyway please check out his script here.\n",
        "- Now onto the notebook at hand and I hope that it manages to do justice and convey the concept of ensembling in an intuitive and concise manner."
      ],
      "metadata": {
        "id": "E5jY7kQq5qtf"
      }
    },
    {
      "cell_type": "code",
      "source": [
        "# load in our libraries\n",
        "import pandas as pd\n",
        "import numpy as np\n",
        "import re\n",
        "import sklearn\n",
        "import xgboost as xgb\n",
        "import seaborn as sns\n",
        "import matplotlib.pyplot as plt\n",
        "%matplotlib inline\n",
        "\n",
        "import plotly.offline as py\n",
        "py.init_notebook_mode(connected=True)\n",
        "import plotly.graph_objs as go\n",
        "import plotly.tools as tls\n",
        "\n",
        "import warnings\n",
        "warnings.filterwarnings(\"ignore\")\n",
        "\n",
        "#going to use these 5 base models for the stacking\n",
        "from sklearn.ensemble import (RandomForestClassifier,AdaBoostClassifier, GradientBoostingClassifier, ExtraTreesClassifier)\n",
        "from sklearn.svm import SVC\n",
        "from sklearn.model_selection import KFold"
      ],
      "metadata": {
        "colab": {
          "base_uri": "https://localhost:8080/",
          "height": 17
        },
        "id": "aKPKCA6L8hnR",
        "outputId": "049a8106-e3ef-444f-b62e-796128efd46e"
      },
      "execution_count": 1,
      "outputs": [
        {
          "output_type": "display_data",
          "data": {
            "text/html": [
              "        <script type=\"text/javascript\">\n",
              "        window.PlotlyConfig = {MathJaxConfig: 'local'};\n",
              "        if (window.MathJax) {MathJax.Hub.Config({SVG: {font: \"STIX-Web\"}});}\n",
              "        if (typeof require !== 'undefined') {\n",
              "        require.undef(\"plotly\");\n",
              "        requirejs.config({\n",
              "            paths: {\n",
              "                'plotly': ['https://cdn.plot.ly/plotly-2.8.3.min']\n",
              "            }\n",
              "        });\n",
              "        require(['plotly'], function(Plotly) {\n",
              "            window._Plotly = Plotly;\n",
              "        });\n",
              "        }\n",
              "        </script>\n",
              "        "
            ]
          },
          "metadata": {}
        }
      ]
    },
    {
      "cell_type": "markdown",
      "source": [
        "### Feature Exploration, Engineering and Cleaning\n",
        "- Now we will proceed much like how most kernels in general are structed, and that is to first explore the data on hand, identify possible feature engineering opportunities as well as numerically encode any categorical features."
      ],
      "metadata": {
        "id": "YQTgIdeK-BMp"
      }
    },
    {
      "cell_type": "code",
      "source": [
        "#load in the train and test datasets\n",
        "train = pd.read_csv('../input/train.csv')\n",
        "test = pd.read_csv('../input/test.csv')\n",
        "\n",
        "#store our passenger ID for easy access\n",
        "PassengerId = test['PassengerId']\n",
        "\n",
        "train.head(3)"
      ],
      "metadata": {
        "colab": {
          "base_uri": "https://localhost:8080/",
          "height": 359
        },
        "id": "5buqVCCk5eo0",
        "outputId": "2b0749eb-6d29-4ded-81b3-d666b7e2f31e"
      },
      "execution_count": 2,
      "outputs": [
        {
          "output_type": "execute_result",
          "data": {
            "text/plain": [
              "   PassengerId  Survived  Pclass  \\\n",
              "0            1         0       3   \n",
              "1            2         1       1   \n",
              "2            3         1       3   \n",
              "\n",
              "                                                Name     Sex   Age  SibSp  \\\n",
              "0                            Braund, Mr. Owen Harris    male  22.0      1   \n",
              "1  Cumings, Mrs. John Bradley (Florence Briggs Th...  female  38.0      1   \n",
              "2                             Heikkinen, Miss. Laina  female  26.0      0   \n",
              "\n",
              "   Parch            Ticket     Fare Cabin Embarked  \n",
              "0      0         A/5 21171   7.2500   NaN        S  \n",
              "1      0          PC 17599  71.2833   C85        C  \n",
              "2      0  STON/O2. 3101282   7.9250   NaN        S  "
            ],
            "text/html": [
              "\n",
              "  <div id=\"df-690f166c-6c0f-4319-a9cb-6bcd4b489266\">\n",
              "    <div class=\"colab-df-container\">\n",
              "      <div>\n",
              "<style scoped>\n",
              "    .dataframe tbody tr th:only-of-type {\n",
              "        vertical-align: middle;\n",
              "    }\n",
              "\n",
              "    .dataframe tbody tr th {\n",
              "        vertical-align: top;\n",
              "    }\n",
              "\n",
              "    .dataframe thead th {\n",
              "        text-align: right;\n",
              "    }\n",
              "</style>\n",
              "<table border=\"1\" class=\"dataframe\">\n",
              "  <thead>\n",
              "    <tr style=\"text-align: right;\">\n",
              "      <th></th>\n",
              "      <th>PassengerId</th>\n",
              "      <th>Survived</th>\n",
              "      <th>Pclass</th>\n",
              "      <th>Name</th>\n",
              "      <th>Sex</th>\n",
              "      <th>Age</th>\n",
              "      <th>SibSp</th>\n",
              "      <th>Parch</th>\n",
              "      <th>Ticket</th>\n",
              "      <th>Fare</th>\n",
              "      <th>Cabin</th>\n",
              "      <th>Embarked</th>\n",
              "    </tr>\n",
              "  </thead>\n",
              "  <tbody>\n",
              "    <tr>\n",
              "      <th>0</th>\n",
              "      <td>1</td>\n",
              "      <td>0</td>\n",
              "      <td>3</td>\n",
              "      <td>Braund, Mr. Owen Harris</td>\n",
              "      <td>male</td>\n",
              "      <td>22.0</td>\n",
              "      <td>1</td>\n",
              "      <td>0</td>\n",
              "      <td>A/5 21171</td>\n",
              "      <td>7.2500</td>\n",
              "      <td>NaN</td>\n",
              "      <td>S</td>\n",
              "    </tr>\n",
              "    <tr>\n",
              "      <th>1</th>\n",
              "      <td>2</td>\n",
              "      <td>1</td>\n",
              "      <td>1</td>\n",
              "      <td>Cumings, Mrs. John Bradley (Florence Briggs Th...</td>\n",
              "      <td>female</td>\n",
              "      <td>38.0</td>\n",
              "      <td>1</td>\n",
              "      <td>0</td>\n",
              "      <td>PC 17599</td>\n",
              "      <td>71.2833</td>\n",
              "      <td>C85</td>\n",
              "      <td>C</td>\n",
              "    </tr>\n",
              "    <tr>\n",
              "      <th>2</th>\n",
              "      <td>3</td>\n",
              "      <td>1</td>\n",
              "      <td>3</td>\n",
              "      <td>Heikkinen, Miss. Laina</td>\n",
              "      <td>female</td>\n",
              "      <td>26.0</td>\n",
              "      <td>0</td>\n",
              "      <td>0</td>\n",
              "      <td>STON/O2. 3101282</td>\n",
              "      <td>7.9250</td>\n",
              "      <td>NaN</td>\n",
              "      <td>S</td>\n",
              "    </tr>\n",
              "  </tbody>\n",
              "</table>\n",
              "</div>\n",
              "      <button class=\"colab-df-convert\" onclick=\"convertToInteractive('df-690f166c-6c0f-4319-a9cb-6bcd4b489266')\"\n",
              "              title=\"Convert this dataframe to an interactive table.\"\n",
              "              style=\"display:none;\">\n",
              "        \n",
              "  <svg xmlns=\"http://www.w3.org/2000/svg\" height=\"24px\"viewBox=\"0 0 24 24\"\n",
              "       width=\"24px\">\n",
              "    <path d=\"M0 0h24v24H0V0z\" fill=\"none\"/>\n",
              "    <path d=\"M18.56 5.44l.94 2.06.94-2.06 2.06-.94-2.06-.94-.94-2.06-.94 2.06-2.06.94zm-11 1L8.5 8.5l.94-2.06 2.06-.94-2.06-.94L8.5 2.5l-.94 2.06-2.06.94zm10 10l.94 2.06.94-2.06 2.06-.94-2.06-.94-.94-2.06-.94 2.06-2.06.94z\"/><path d=\"M17.41 7.96l-1.37-1.37c-.4-.4-.92-.59-1.43-.59-.52 0-1.04.2-1.43.59L10.3 9.45l-7.72 7.72c-.78.78-.78 2.05 0 2.83L4 21.41c.39.39.9.59 1.41.59.51 0 1.02-.2 1.41-.59l7.78-7.78 2.81-2.81c.8-.78.8-2.07 0-2.86zM5.41 20L4 18.59l7.72-7.72 1.47 1.35L5.41 20z\"/>\n",
              "  </svg>\n",
              "      </button>\n",
              "      \n",
              "  <style>\n",
              "    .colab-df-container {\n",
              "      display:flex;\n",
              "      flex-wrap:wrap;\n",
              "      gap: 12px;\n",
              "    }\n",
              "\n",
              "    .colab-df-convert {\n",
              "      background-color: #E8F0FE;\n",
              "      border: none;\n",
              "      border-radius: 50%;\n",
              "      cursor: pointer;\n",
              "      display: none;\n",
              "      fill: #1967D2;\n",
              "      height: 32px;\n",
              "      padding: 0 0 0 0;\n",
              "      width: 32px;\n",
              "    }\n",
              "\n",
              "    .colab-df-convert:hover {\n",
              "      background-color: #E2EBFA;\n",
              "      box-shadow: 0px 1px 2px rgba(60, 64, 67, 0.3), 0px 1px 3px 1px rgba(60, 64, 67, 0.15);\n",
              "      fill: #174EA6;\n",
              "    }\n",
              "\n",
              "    [theme=dark] .colab-df-convert {\n",
              "      background-color: #3B4455;\n",
              "      fill: #D2E3FC;\n",
              "    }\n",
              "\n",
              "    [theme=dark] .colab-df-convert:hover {\n",
              "      background-color: #434B5C;\n",
              "      box-shadow: 0px 1px 3px 1px rgba(0, 0, 0, 0.15);\n",
              "      filter: drop-shadow(0px 1px 2px rgba(0, 0, 0, 0.3));\n",
              "      fill: #FFFFFF;\n",
              "    }\n",
              "  </style>\n",
              "\n",
              "      <script>\n",
              "        const buttonEl =\n",
              "          document.querySelector('#df-690f166c-6c0f-4319-a9cb-6bcd4b489266 button.colab-df-convert');\n",
              "        buttonEl.style.display =\n",
              "          google.colab.kernel.accessAllowed ? 'block' : 'none';\n",
              "\n",
              "        async function convertToInteractive(key) {\n",
              "          const element = document.querySelector('#df-690f166c-6c0f-4319-a9cb-6bcd4b489266');\n",
              "          const dataTable =\n",
              "            await google.colab.kernel.invokeFunction('convertToInteractive',\n",
              "                                                     [key], {});\n",
              "          if (!dataTable) return;\n",
              "\n",
              "          const docLinkHtml = 'Like what you see? Visit the ' +\n",
              "            '<a target=\"_blank\" href=https://colab.research.google.com/notebooks/data_table.ipynb>data table notebook</a>'\n",
              "            + ' to learn more about interactive tables.';\n",
              "          element.innerHTML = '';\n",
              "          dataTable['output_type'] = 'display_data';\n",
              "          await google.colab.output.renderOutput(dataTable, element);\n",
              "          const docLink = document.createElement('div');\n",
              "          docLink.innerHTML = docLinkHtml;\n",
              "          element.appendChild(docLink);\n",
              "        }\n",
              "      </script>\n",
              "    </div>\n",
              "  </div>\n",
              "  "
            ]
          },
          "metadata": {},
          "execution_count": 2
        }
      ]
    },
    {
      "cell_type": "markdown",
      "source": [
        "- well it is no surprixe that our task is to somehow extract the information out of the categorical variables\n",
        "#### Feature Engineering\n",
        "- Here, credit must be extended to Sina's comprehensive and well-thought out notebook for the feature engineering ideas so please check out his work"
      ],
      "metadata": {
        "id": "I3n3nT4yEM1z"
      }
    },
    {
      "cell_type": "code",
      "source": [
        "full_data = [train,test]\n",
        "\n",
        "#Gives the length of the name\n",
        "train[\"Name_length\"] = train[\"Name\"].apply(len)\n",
        "test[\"Name_length\"] = test['Name'].apply(len)\n",
        "\n",
        "#feature that tells whether a passenger had a cabin on the titanic\n",
        "train[\"Has_Cabin\"] = train[\"Cabin\"].apply(lambda x:0 if type(x) == float else 1)\n",
        "test[\"Has_Cabin\"] = test[\"Cabin\"].apply(lambda x:0 if type(x) == float else 1)\n",
        "\n",
        "#feature engineering steps taken from Sina\n",
        "#create new feature FamilySize as a combination of SibSp and Parch\n",
        "for dataset in full_data:\n",
        "  dataset[\"FamilySize\"] = dataset['SibSp'] + dataset['Parch'] + 1\n",
        "\n",
        "#create new feature IsAlone from FamilySize\n",
        "for dataset in full_data:\n",
        "  dataset['IsAlone'] = 0\n",
        "  dataset.loc[dataset['FamilySize']==1, 'IsAlone'] = 1\n",
        "\n",
        "#remove all nulls in the embarked column\n",
        "for dataset in full_data:\n",
        "  dataset['Embarked'] = dataset[\"Embarked\"].fillna('S')\n",
        "\n",
        "#remove all nulls in the Fare column and create a new feature categoricalFare\n",
        "for dataset in full_data:\n",
        "  dataset['Fare'] = dataset['Fare'].fillna(train['Fare'].median())\n",
        "train['categoricalFare'] = pd.qcut(train['Fare'],4)\n",
        "\n",
        "#create a new feature categoricalAge\n",
        "for dataset in full_data:\n",
        "  age_avg = dataset['Age'].mean()\n",
        "  age_std = dataset['Age'].std()\n",
        "  age_null_count = dataset['Age'].isnull().sum()\n",
        "  age_null_random_list = np.random.randint(age_avg - age_std, age_avg + age_std, size=age_null_count)\n",
        "  dataset['Age'][np.isnan(dataset['Age'])] = age_null_random_list\n",
        "  dataset['Age'] = dataset['Age'].astype(int)\n",
        "train['CategoricalAge'] = pd.cut(train['Age'],5)\n",
        "\n",
        "#Define function to extract titles from passenger names\n",
        "def get_title(name):\n",
        "  title_search = re.search('([A-Za-z]+)\\.',name)\n",
        "  #if the title exists, extract and return it\n",
        "  if title_search:\n",
        "    return title_search.group(1)\n",
        "  return \"\"\n",
        "\n",
        "#Create a new feature title, containing the titles of passenger names\n",
        "for dataset in full_data:\n",
        "  dataset['Title'] = dataset['Name'].apply(get_title)\n",
        "#group all non-common titles into one single grouping \"rare\"\n",
        "for dataset in full_data:\n",
        "  dataset['Title'] = dataset['Title'].replace([\"Lady\",\"Countess\",\"Capt\",\"Col\",\"Don\",\"Dr\",\"Major\",\"Rev\",\"Sir\",\"Jonkheer\",\"Dona\"],\"Rare\")\n",
        "\n",
        "  dataset['Title'] = dataset['Title'].replace(\"Mlle\",\"Miss\")\n",
        "  dataset['Title'] = dataset['Title'].replace('Ms',\"Miss\")\n",
        "  dataset[\"Title\"] = dataset[\"Title\"].replace(\"Mme\",\"Mrs\")\n",
        "\n",
        "for dataset in full_data:\n",
        "  #mapping sex\n",
        "  dataset[\"Sex\"] = dataset['Sex'].map({\"female\":0,\"male\":1}).astype(int)\n",
        "\n",
        "  #mapping titles\n",
        "  title_mapping = {\"Mr\":1,\"Miss\":2,\"Mrs\":3,\"Master\":4,\"Rare\":5}\n",
        "  dataset[\"Title\"] = dataset[\"Title\"].map(title_mapping)\n",
        "  dataset['Title'] = dataset[\"Title\"].fillna(0)\n",
        "\n",
        "  #mapping embarked\n",
        "  dataset[\"Embarked\"] = dataset[\"Embarked\"].map({\"S\":0,\"C\":1,\"Q\":2}).astype(int)\n",
        "\n",
        "  #mapping fare\n",
        "  dataset.loc[dataset['Fare']<=7.91,'Fare'] = 0\n",
        "  dataset.loc[(dataset['Fare']>7.91)&(dataset['Fare']<=14.454),'Fare'] = 1\n",
        "  dataset.loc[(dataset['Fare']>14.454)&(dataset['Fare']<=31),'Fare'] = 2\n",
        "  dataset.loc[dataset['Fare']>31,'Fare'] = 3\n",
        "  dataset['Fare'] = dataset['Fare'].astype(int)\n",
        "\n",
        "  #mapping age\n",
        "  dataset.loc[dataset['Age']<=16,'Age'] = 0\n",
        "  dataset.loc[(dataset['Age']>16)&(dataset['Age']<=32),'Age'] = 1\n",
        "  dataset.loc[(dataset['Age']>32)&(dataset['Age']<=48),'Age'] = 2\n",
        "  dataset.loc[(dataset['Age']>48)&(dataset['Age']<=64),'Age'] = 3\n",
        "  dataset.loc[dataset['Age']>64,'Age'] = 4"
      ],
      "metadata": {
        "id": "YVzWCDFMEkfL"
      },
      "execution_count": 3,
      "outputs": []
    },
    {
      "cell_type": "code",
      "source": [
        "#feature selection\n",
        "drop_elements = ['PassengerId',\"Name\",\"Ticket\",\"Cabin\",\"SibSp\"]\n",
        "train = train.drop(drop_elements,axis=1)\n",
        "train = train.drop(['CategoricalAge'], axis = 1) #categoricalfare?\n",
        "test = test.drop(drop_elements,axis=1)"
      ],
      "metadata": {
        "id": "86-uCQ1cFgGv"
      },
      "execution_count": 4,
      "outputs": []
    },
    {
      "cell_type": "markdown",
      "source": [
        "- all right so now having cleaned the features and extracted relevant information and dropped the categorical columns our features should now all be nurmeric, a format suitable to feed into our Machine learning models. However before we proceed let us generate some simple correlation and distribution plots of our transformed dataset to observe to.\n",
        "\n",
        "#### Visualizations"
      ],
      "metadata": {
        "id": "5rsfHvPsiWt2"
      }
    },
    {
      "cell_type": "code",
      "source": [
        "train.head(3)"
      ],
      "metadata": {
        "colab": {
          "base_uri": "https://localhost:8080/",
          "height": 206
        },
        "id": "4bsFpg4Rdh1x",
        "outputId": "13759bdd-309e-4f58-e166-f45c198dfd12"
      },
      "execution_count": 5,
      "outputs": [
        {
          "output_type": "execute_result",
          "data": {
            "text/plain": [
              "   Survived  Pclass  Sex  Age  Parch  Fare  Embarked  Name_length  Has_Cabin  \\\n",
              "0         0       3    1    1      0     0         0           23          0   \n",
              "1         1       1    0    2      0     3         1           51          1   \n",
              "2         1       3    0    1      0     1         0           22          0   \n",
              "\n",
              "   FamilySize  IsAlone  categoricalFare  Title  \n",
              "0           2        0   (-0.001, 7.91]      1  \n",
              "1           2        0  (31.0, 512.329]      3  \n",
              "2           1        1   (7.91, 14.454]      2  "
            ],
            "text/html": [
              "\n",
              "  <div id=\"df-bdeb8b5a-9f91-4634-ad3e-f6d836c02acd\">\n",
              "    <div class=\"colab-df-container\">\n",
              "      <div>\n",
              "<style scoped>\n",
              "    .dataframe tbody tr th:only-of-type {\n",
              "        vertical-align: middle;\n",
              "    }\n",
              "\n",
              "    .dataframe tbody tr th {\n",
              "        vertical-align: top;\n",
              "    }\n",
              "\n",
              "    .dataframe thead th {\n",
              "        text-align: right;\n",
              "    }\n",
              "</style>\n",
              "<table border=\"1\" class=\"dataframe\">\n",
              "  <thead>\n",
              "    <tr style=\"text-align: right;\">\n",
              "      <th></th>\n",
              "      <th>Survived</th>\n",
              "      <th>Pclass</th>\n",
              "      <th>Sex</th>\n",
              "      <th>Age</th>\n",
              "      <th>Parch</th>\n",
              "      <th>Fare</th>\n",
              "      <th>Embarked</th>\n",
              "      <th>Name_length</th>\n",
              "      <th>Has_Cabin</th>\n",
              "      <th>FamilySize</th>\n",
              "      <th>IsAlone</th>\n",
              "      <th>categoricalFare</th>\n",
              "      <th>Title</th>\n",
              "    </tr>\n",
              "  </thead>\n",
              "  <tbody>\n",
              "    <tr>\n",
              "      <th>0</th>\n",
              "      <td>0</td>\n",
              "      <td>3</td>\n",
              "      <td>1</td>\n",
              "      <td>1</td>\n",
              "      <td>0</td>\n",
              "      <td>0</td>\n",
              "      <td>0</td>\n",
              "      <td>23</td>\n",
              "      <td>0</td>\n",
              "      <td>2</td>\n",
              "      <td>0</td>\n",
              "      <td>(-0.001, 7.91]</td>\n",
              "      <td>1</td>\n",
              "    </tr>\n",
              "    <tr>\n",
              "      <th>1</th>\n",
              "      <td>1</td>\n",
              "      <td>1</td>\n",
              "      <td>0</td>\n",
              "      <td>2</td>\n",
              "      <td>0</td>\n",
              "      <td>3</td>\n",
              "      <td>1</td>\n",
              "      <td>51</td>\n",
              "      <td>1</td>\n",
              "      <td>2</td>\n",
              "      <td>0</td>\n",
              "      <td>(31.0, 512.329]</td>\n",
              "      <td>3</td>\n",
              "    </tr>\n",
              "    <tr>\n",
              "      <th>2</th>\n",
              "      <td>1</td>\n",
              "      <td>3</td>\n",
              "      <td>0</td>\n",
              "      <td>1</td>\n",
              "      <td>0</td>\n",
              "      <td>1</td>\n",
              "      <td>0</td>\n",
              "      <td>22</td>\n",
              "      <td>0</td>\n",
              "      <td>1</td>\n",
              "      <td>1</td>\n",
              "      <td>(7.91, 14.454]</td>\n",
              "      <td>2</td>\n",
              "    </tr>\n",
              "  </tbody>\n",
              "</table>\n",
              "</div>\n",
              "      <button class=\"colab-df-convert\" onclick=\"convertToInteractive('df-bdeb8b5a-9f91-4634-ad3e-f6d836c02acd')\"\n",
              "              title=\"Convert this dataframe to an interactive table.\"\n",
              "              style=\"display:none;\">\n",
              "        \n",
              "  <svg xmlns=\"http://www.w3.org/2000/svg\" height=\"24px\"viewBox=\"0 0 24 24\"\n",
              "       width=\"24px\">\n",
              "    <path d=\"M0 0h24v24H0V0z\" fill=\"none\"/>\n",
              "    <path d=\"M18.56 5.44l.94 2.06.94-2.06 2.06-.94-2.06-.94-.94-2.06-.94 2.06-2.06.94zm-11 1L8.5 8.5l.94-2.06 2.06-.94-2.06-.94L8.5 2.5l-.94 2.06-2.06.94zm10 10l.94 2.06.94-2.06 2.06-.94-2.06-.94-.94-2.06-.94 2.06-2.06.94z\"/><path d=\"M17.41 7.96l-1.37-1.37c-.4-.4-.92-.59-1.43-.59-.52 0-1.04.2-1.43.59L10.3 9.45l-7.72 7.72c-.78.78-.78 2.05 0 2.83L4 21.41c.39.39.9.59 1.41.59.51 0 1.02-.2 1.41-.59l7.78-7.78 2.81-2.81c.8-.78.8-2.07 0-2.86zM5.41 20L4 18.59l7.72-7.72 1.47 1.35L5.41 20z\"/>\n",
              "  </svg>\n",
              "      </button>\n",
              "      \n",
              "  <style>\n",
              "    .colab-df-container {\n",
              "      display:flex;\n",
              "      flex-wrap:wrap;\n",
              "      gap: 12px;\n",
              "    }\n",
              "\n",
              "    .colab-df-convert {\n",
              "      background-color: #E8F0FE;\n",
              "      border: none;\n",
              "      border-radius: 50%;\n",
              "      cursor: pointer;\n",
              "      display: none;\n",
              "      fill: #1967D2;\n",
              "      height: 32px;\n",
              "      padding: 0 0 0 0;\n",
              "      width: 32px;\n",
              "    }\n",
              "\n",
              "    .colab-df-convert:hover {\n",
              "      background-color: #E2EBFA;\n",
              "      box-shadow: 0px 1px 2px rgba(60, 64, 67, 0.3), 0px 1px 3px 1px rgba(60, 64, 67, 0.15);\n",
              "      fill: #174EA6;\n",
              "    }\n",
              "\n",
              "    [theme=dark] .colab-df-convert {\n",
              "      background-color: #3B4455;\n",
              "      fill: #D2E3FC;\n",
              "    }\n",
              "\n",
              "    [theme=dark] .colab-df-convert:hover {\n",
              "      background-color: #434B5C;\n",
              "      box-shadow: 0px 1px 3px 1px rgba(0, 0, 0, 0.15);\n",
              "      filter: drop-shadow(0px 1px 2px rgba(0, 0, 0, 0.3));\n",
              "      fill: #FFFFFF;\n",
              "    }\n",
              "  </style>\n",
              "\n",
              "      <script>\n",
              "        const buttonEl =\n",
              "          document.querySelector('#df-bdeb8b5a-9f91-4634-ad3e-f6d836c02acd button.colab-df-convert');\n",
              "        buttonEl.style.display =\n",
              "          google.colab.kernel.accessAllowed ? 'block' : 'none';\n",
              "\n",
              "        async function convertToInteractive(key) {\n",
              "          const element = document.querySelector('#df-bdeb8b5a-9f91-4634-ad3e-f6d836c02acd');\n",
              "          const dataTable =\n",
              "            await google.colab.kernel.invokeFunction('convertToInteractive',\n",
              "                                                     [key], {});\n",
              "          if (!dataTable) return;\n",
              "\n",
              "          const docLinkHtml = 'Like what you see? Visit the ' +\n",
              "            '<a target=\"_blank\" href=https://colab.research.google.com/notebooks/data_table.ipynb>data table notebook</a>'\n",
              "            + ' to learn more about interactive tables.';\n",
              "          element.innerHTML = '';\n",
              "          dataTable['output_type'] = 'display_data';\n",
              "          await google.colab.output.renderOutput(dataTable, element);\n",
              "          const docLink = document.createElement('div');\n",
              "          docLink.innerHTML = docLinkHtml;\n",
              "          element.appendChild(docLink);\n",
              "        }\n",
              "      </script>\n",
              "    </div>\n",
              "  </div>\n",
              "  "
            ]
          },
          "metadata": {},
          "execution_count": 5
        }
      ]
    },
    {
      "cell_type": "markdown",
      "source": [
        "- Person Correlation Heatmap\n",
        "  - let us generate some correlation plots of the features to see how related one feature is to the next. To do so, we will utilize the Seaborn plotting package which allows us to plot heatmaps very conveniently as follows"
      ],
      "metadata": {
        "id": "q1ywo_fbd6bS"
      }
    },
    {
      "cell_type": "code",
      "source": [
        "colormap = plt.cm.RdBu\n",
        "plt.figure(figsize=(14,12))\n",
        "plt.title('Pearson Correlation of Features', y=1.05, size=15)\n",
        "sns.heatmap(train.astype(float).corr(),linewidths=0.1,vmax=1.0, \n",
        "            square=True, cmap=colormap, linecolor='white', annot=True)\n",
        "#ValueError: Cannot cast interval[float64, right] dtype to float64??"
      ],
      "metadata": {
        "id": "pvUuEyRxefJd"
      },
      "execution_count": null,
      "outputs": []
    },
    {
      "cell_type": "markdown",
      "source": [
        "- Take away from the plots\n",
        "  - one thing that the pearson correlation plot can tell us is that there are not too many features strongly correlated with one another. This is good from a point of view of feeding these features into your learning model because this means that there isn't much redundant or superfluous data in our training set and we are happy that each feature carries with it some unique information. Here are two most correlated features are that of Family size and Parch. i'll still leave both features in for the purposes of this exercise.\n",
        "\n",
        "- Pairplots\n",
        "  - finally let us generate some pairplots to obseerve the distribution of data from one feature to the other. Once again we use seaborn to help us."
      ],
      "metadata": {
        "id": "cOxMVQ1HgPP3"
      }
    },
    {
      "cell_type": "code",
      "source": [
        "g = sns.pairplot(train[[u'Survived', u'Pclass', u'Sex', u'Age', u'Parch', u'Fare', u'Embarked',\n",
        "       u'FamilySize', u'Title']], hue='Survived', palette = 'seismic',size=1.2,diag_kind = 'kde',diag_kws=dict(shade=True),plot_kws=dict(s=10) )\n",
        "g.set(xticklabels=[])"
      ],
      "metadata": {
        "colab": {
          "base_uri": "https://localhost:8080/",
          "height": 604
        },
        "id": "Z-X4dPQ0sWEw",
        "outputId": "f526791d-0821-4cc0-bfab-e571bae6c7d5"
      },
      "execution_count": 8,
      "outputs": [
        {
          "output_type": "execute_result",
          "data": {
            "text/plain": [
              "<seaborn.axisgrid.PairGrid at 0x7f8bd70bf550>"
            ]
          },
          "metadata": {},
          "execution_count": 8
        },
        {
          "output_type": "display_data",
          "data": {
            "text/plain": [
              "<Figure size 743.075x691.2 with 72 Axes>"
            ],
            "image/png": "[encoded data removed]"
          },
          "metadata": {
            "needs_background": "light"
          }
        }
      ]
    },
    {
      "cell_type": "markdown",
      "source": [
        "### Ensembling & Stacking models\n",
        "- finally after that brief whirlwind detour with regards to feature engineering and formatting, we finally arrive at the meat and gist of the this notebook.\n",
        "- Creating a stacking ensemble!\n",
        "\n",
        "#### - Helpers via python classes\n",
        "- here we invoke the use of python's classes to help make it more convenient for us. For any newcomers to programming, one normally hears classes being used in conjuction with Object-Oriented Programming. in short, a class helps to extend some code/program for creating objects(variables for old-school peeps) as well as to implement functions and methods specific to that class.\n",
        "- In the section of code below, we essentially write a class SklearnHelper that allows one to extend the inbuilt methods(such as train, predict and fit) common to all the Sklearn classifiers. Therfore this cuts out redundancy as won't need to write the same methods five times if we wanted to invoke five different classifiers."
      ],
      "metadata": {
        "id": "wka1dc72bqxU"
      }
    },
    {
      "cell_type": "code",
      "source": [
        "#some useful parameters which will come in handy later on\n",
        "ntrain = train.shape[0]\n",
        "ntest = test.shape[0]\n",
        "SEED = 0 #for reproducibility\n",
        "NFOLDS = 5 #set folds for out-of-fold prediction\n",
        "kf = KFold(ntrain, n_splits= NFOLDS, random_state=SEED)\n",
        "#TypeError: __init__() got multiple values for argument 'n_splits'??\n",
        "\n",
        "#class to extend the Sklearn classifier\n",
        "class SklearnHelper(object):\n",
        "  def __init__(self,clf,seed=0,params=None):\n",
        "    params['random_state'] = seed\n",
        "    self.clf = clf(**params)\n",
        "\n",
        "  def train(self,x_train,y_train):\n",
        "    self.clf.fit(x_train,y_train)\n",
        "\n",
        "  def predict(self,x):\n",
        "    return self.clf.predict(x)\n",
        "\n",
        "  def fit(self,x,y):\n",
        "    return self.clf.fit(x,y)\n",
        "\n",
        "  def feature_importances(self,x,y):\n",
        "    print(self.clf.fit(x,y).feature_importances_)\n",
        "\n",
        "#class to extend XGboost classifier"
      ],
      "metadata": {
        "id": "rZvY5VMWgEpj"
      },
      "execution_count": null,
      "outputs": []
    },
    {
      "cell_type": "markdown",
      "source": [
        "- bear with me for those who already know this but for people who have not created classes or objects in python before, let me explain what the code given above does. in creating my base classifiers, i will only use the models already present in the Sklearn library and therefore only extend the class for that.\n",
        "- def init: python standard for invoking the default constructor for the class. This means that when you want to create an object(classifier), you have to give it the parameters of clf(what sklearn classifier you want), random seed and params(parameters for the classifiers)\n",
        "- The rest of the code are simply methods of the class which simply call the corresponding methods already existing within the sklearn classifiers. Essentially, we have created a wrapper class to extend the various sklearn classifiers so that this should help us reduce having to write the same code over and over when we implement multiple learners to our stacker.\n",
        "\n",
        "#### - Out-of-Fold Predictions\n",
        "- Now as alluded to above in the introductory section, stacking uses predictions of base classifiers as input for training to a second-level model. This runs the risk of your base model predictions already having \"seen\" the test set and therefore overfitting when feeding these predictions."
      ],
      "metadata": {
        "id": "em9q7Gbzm23b"
      }
    },
    {
      "cell_type": "code",
      "source": [
        "def get_oof(clf,x_train,y_train,x_test):\n",
        "  oof_train = np.zeros((ntrain,))\n",
        "  oof_test = np.zeros((ntest,))\n",
        "  oof_test_skf = np.empty((NFOLDS,ntest))\n",
        "\n",
        "  for i, (train_index,test_index) in enumerate(kf):\n",
        "    x_tr = x_train[train_index]\n",
        "    y_tr = y_train[train_index]\n",
        "    x_te = x_train[test_index]\n",
        "\n",
        "    clf.train(x_tr,y_tr)\n",
        "\n",
        "    oof_train[test_index] = clf.predict(x_te)\n",
        "    oof_test_skf[i,:] = clf.predict(x_test)\n",
        "\n",
        "  oof_test[:] = oof_test_skf.mean(axis=0)\n",
        "  return oof_train.reshape(-1,1),oof_test.reshape(-1,1)"
      ],
      "metadata": {
        "id": "Ye968DfgMjD2"
      },
      "execution_count": null,
      "outputs": []
    }
  ]
}